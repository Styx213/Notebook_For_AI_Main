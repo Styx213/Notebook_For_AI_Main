{
 "cells": [
  {
   "cell_type": "code",
   "execution_count": 1,
   "metadata": {},
   "outputs": [],
   "source": [
    "# Зависимости\n",
    "import pandas as pd\n",
    "import numpy as np\n",
    "import matplotlib.pyplot as plt\n",
    "import random\n",
    "\n",
    "from sklearn.model_selection import train_test_split\n",
    "from sklearn.preprocessing import MinMaxScaler\n",
    "from sklearn.compose import ColumnTransformer\n",
    "from sklearn.neighbors import KNeighborsClassifier\n",
    "from sklearn.ensemble import RandomForestClassifier\n",
    "from sklearn.ensemble import ExtraTreesClassifier\n",
    "from sklearn.ensemble import BaggingRegressor, BaggingClassifier, RandomForestRegressor, RandomForestClassifier, GradientBoostingRegressor, GradientBoostingClassifier\n",
    "from xgboost import XGBRegressor, XGBClassifier\n",
    "from sklearn import preprocessing\n",
    "from sklearn.cluster import KMeans\n",
    "\n",
    "from sklearn.metrics import mean_squared_error, f1_score"
   ]
  },
  {
   "cell_type": "code",
   "execution_count": 2,
   "metadata": {},
   "outputs": [],
   "source": [
    "# Генерируем уникальный seed\n",
    "my_code = \"Антонов Дмитрий\"\n",
    "seed_limit = 2 ** 32\n",
    "my_seed = int.from_bytes(my_code.encode(), \"little\") % seed_limit"
   ]
  },
  {
   "cell_type": "code",
   "execution_count": 3,
   "metadata": {},
   "outputs": [],
   "source": [
    "AD = pd.read_csv(\"datasets/Fish.csv\")"
   ]
  },
  {
   "cell_type": "code",
   "execution_count": 4,
   "metadata": {},
   "outputs": [
    {
     "data": {
      "text/html": [
       "<div>\n",
       "<style scoped>\n",
       "    .dataframe tbody tr th:only-of-type {\n",
       "        vertical-align: middle;\n",
       "    }\n",
       "\n",
       "    .dataframe tbody tr th {\n",
       "        vertical-align: top;\n",
       "    }\n",
       "\n",
       "    .dataframe thead th {\n",
       "        text-align: right;\n",
       "    }\n",
       "</style>\n",
       "<table border=\"1\" class=\"dataframe\">\n",
       "  <thead>\n",
       "    <tr style=\"text-align: right;\">\n",
       "      <th></th>\n",
       "      <th>Species</th>\n",
       "      <th>Weight</th>\n",
       "      <th>Length1</th>\n",
       "      <th>Length2</th>\n",
       "      <th>Length3</th>\n",
       "      <th>Height</th>\n",
       "      <th>Width</th>\n",
       "    </tr>\n",
       "  </thead>\n",
       "  <tbody>\n",
       "    <tr>\n",
       "      <th>0</th>\n",
       "      <td>Bream</td>\n",
       "      <td>242.0</td>\n",
       "      <td>23.2</td>\n",
       "      <td>25.4</td>\n",
       "      <td>30.0</td>\n",
       "      <td>11.5200</td>\n",
       "      <td>4.0200</td>\n",
       "    </tr>\n",
       "    <tr>\n",
       "      <th>1</th>\n",
       "      <td>Bream</td>\n",
       "      <td>290.0</td>\n",
       "      <td>24.0</td>\n",
       "      <td>26.3</td>\n",
       "      <td>31.2</td>\n",
       "      <td>12.4800</td>\n",
       "      <td>4.3056</td>\n",
       "    </tr>\n",
       "    <tr>\n",
       "      <th>2</th>\n",
       "      <td>Bream</td>\n",
       "      <td>340.0</td>\n",
       "      <td>23.9</td>\n",
       "      <td>26.5</td>\n",
       "      <td>31.1</td>\n",
       "      <td>12.3778</td>\n",
       "      <td>4.6961</td>\n",
       "    </tr>\n",
       "    <tr>\n",
       "      <th>3</th>\n",
       "      <td>Bream</td>\n",
       "      <td>363.0</td>\n",
       "      <td>26.3</td>\n",
       "      <td>29.0</td>\n",
       "      <td>33.5</td>\n",
       "      <td>12.7300</td>\n",
       "      <td>4.4555</td>\n",
       "    </tr>\n",
       "    <tr>\n",
       "      <th>4</th>\n",
       "      <td>Bream</td>\n",
       "      <td>430.0</td>\n",
       "      <td>26.5</td>\n",
       "      <td>29.0</td>\n",
       "      <td>34.0</td>\n",
       "      <td>12.4440</td>\n",
       "      <td>5.1340</td>\n",
       "    </tr>\n",
       "    <tr>\n",
       "      <th>...</th>\n",
       "      <td>...</td>\n",
       "      <td>...</td>\n",
       "      <td>...</td>\n",
       "      <td>...</td>\n",
       "      <td>...</td>\n",
       "      <td>...</td>\n",
       "      <td>...</td>\n",
       "    </tr>\n",
       "    <tr>\n",
       "      <th>154</th>\n",
       "      <td>Smelt</td>\n",
       "      <td>12.2</td>\n",
       "      <td>11.5</td>\n",
       "      <td>12.2</td>\n",
       "      <td>13.4</td>\n",
       "      <td>2.0904</td>\n",
       "      <td>1.3936</td>\n",
       "    </tr>\n",
       "    <tr>\n",
       "      <th>155</th>\n",
       "      <td>Smelt</td>\n",
       "      <td>13.4</td>\n",
       "      <td>11.7</td>\n",
       "      <td>12.4</td>\n",
       "      <td>13.5</td>\n",
       "      <td>2.4300</td>\n",
       "      <td>1.2690</td>\n",
       "    </tr>\n",
       "    <tr>\n",
       "      <th>156</th>\n",
       "      <td>Smelt</td>\n",
       "      <td>12.2</td>\n",
       "      <td>12.1</td>\n",
       "      <td>13.0</td>\n",
       "      <td>13.8</td>\n",
       "      <td>2.2770</td>\n",
       "      <td>1.2558</td>\n",
       "    </tr>\n",
       "    <tr>\n",
       "      <th>157</th>\n",
       "      <td>Smelt</td>\n",
       "      <td>19.7</td>\n",
       "      <td>13.2</td>\n",
       "      <td>14.3</td>\n",
       "      <td>15.2</td>\n",
       "      <td>2.8728</td>\n",
       "      <td>2.0672</td>\n",
       "    </tr>\n",
       "    <tr>\n",
       "      <th>158</th>\n",
       "      <td>Smelt</td>\n",
       "      <td>19.9</td>\n",
       "      <td>13.8</td>\n",
       "      <td>15.0</td>\n",
       "      <td>16.2</td>\n",
       "      <td>2.9322</td>\n",
       "      <td>1.8792</td>\n",
       "    </tr>\n",
       "  </tbody>\n",
       "</table>\n",
       "<p>159 rows × 7 columns</p>\n",
       "</div>"
      ],
      "text/plain": [
       "    Species  Weight  Length1  Length2  Length3   Height   Width\n",
       "0     Bream   242.0     23.2     25.4     30.0  11.5200  4.0200\n",
       "1     Bream   290.0     24.0     26.3     31.2  12.4800  4.3056\n",
       "2     Bream   340.0     23.9     26.5     31.1  12.3778  4.6961\n",
       "3     Bream   363.0     26.3     29.0     33.5  12.7300  4.4555\n",
       "4     Bream   430.0     26.5     29.0     34.0  12.4440  5.1340\n",
       "..      ...     ...      ...      ...      ...      ...     ...\n",
       "154   Smelt    12.2     11.5     12.2     13.4   2.0904  1.3936\n",
       "155   Smelt    13.4     11.7     12.4     13.5   2.4300  1.2690\n",
       "156   Smelt    12.2     12.1     13.0     13.8   2.2770  1.2558\n",
       "157   Smelt    19.7     13.2     14.3     15.2   2.8728  2.0672\n",
       "158   Smelt    19.9     13.8     15.0     16.2   2.9322  1.8792\n",
       "\n",
       "[159 rows x 7 columns]"
      ]
     },
     "execution_count": 4,
     "metadata": {},
     "output_type": "execute_result"
    }
   ],
   "source": [
    "AD"
   ]
  },
  {
   "cell_type": "code",
   "execution_count": 5,
   "metadata": {},
   "outputs": [
    {
     "name": "stdout",
     "output_type": "stream",
     "text": [
      "32\n"
     ]
    }
   ],
   "source": [
    "# Определим размер валидационной и тестовой выборок\n",
    "val_test_size = round(0.2*len(AD))\n",
    "print(val_test_size)"
   ]
  },
  {
   "cell_type": "code",
   "execution_count": 6,
   "metadata": {},
   "outputs": [
    {
     "name": "stdout",
     "output_type": "stream",
     "text": [
      "95 32 32\n"
     ]
    }
   ],
   "source": [
    "# Создадим обучающую, валидационную и тестовую выборки\n",
    "random_state = my_seed\n",
    "train_val, test = train_test_split(AD, test_size=val_test_size, random_state=random_state)\n",
    "train, val = train_test_split(train_val, test_size=val_test_size, random_state=random_state)\n",
    "print(len(train), len(val), len(test))"
   ]
  },
  {
   "cell_type": "code",
   "execution_count": 7,
   "metadata": {},
   "outputs": [
    {
     "data": {
      "text/html": [
       "<div>\n",
       "<style scoped>\n",
       "    .dataframe tbody tr th:only-of-type {\n",
       "        vertical-align: middle;\n",
       "    }\n",
       "\n",
       "    .dataframe tbody tr th {\n",
       "        vertical-align: top;\n",
       "    }\n",
       "\n",
       "    .dataframe thead th {\n",
       "        text-align: right;\n",
       "    }\n",
       "</style>\n",
       "<table border=\"1\" class=\"dataframe\">\n",
       "  <thead>\n",
       "    <tr style=\"text-align: right;\">\n",
       "      <th></th>\n",
       "      <th>Species</th>\n",
       "      <th>Weight</th>\n",
       "      <th>Length1</th>\n",
       "      <th>Length2</th>\n",
       "      <th>Length3</th>\n",
       "      <th>Height</th>\n",
       "      <th>Width</th>\n",
       "    </tr>\n",
       "  </thead>\n",
       "  <tbody>\n",
       "    <tr>\n",
       "      <th>51</th>\n",
       "      <td>Roach</td>\n",
       "      <td>180.0</td>\n",
       "      <td>23.6</td>\n",
       "      <td>25.2</td>\n",
       "      <td>27.9</td>\n",
       "      <td>7.0866</td>\n",
       "      <td>3.9060</td>\n",
       "    </tr>\n",
       "    <tr>\n",
       "      <th>27</th>\n",
       "      <td>Bream</td>\n",
       "      <td>714.0</td>\n",
       "      <td>32.7</td>\n",
       "      <td>36.0</td>\n",
       "      <td>41.5</td>\n",
       "      <td>16.5170</td>\n",
       "      <td>5.8515</td>\n",
       "    </tr>\n",
       "    <tr>\n",
       "      <th>153</th>\n",
       "      <td>Smelt</td>\n",
       "      <td>9.8</td>\n",
       "      <td>11.4</td>\n",
       "      <td>12.0</td>\n",
       "      <td>13.2</td>\n",
       "      <td>2.2044</td>\n",
       "      <td>1.1484</td>\n",
       "    </tr>\n",
       "    <tr>\n",
       "      <th>55</th>\n",
       "      <td>Whitefish</td>\n",
       "      <td>270.0</td>\n",
       "      <td>23.6</td>\n",
       "      <td>26.0</td>\n",
       "      <td>28.7</td>\n",
       "      <td>8.3804</td>\n",
       "      <td>4.2476</td>\n",
       "    </tr>\n",
       "    <tr>\n",
       "      <th>35</th>\n",
       "      <td>Roach</td>\n",
       "      <td>40.0</td>\n",
       "      <td>12.9</td>\n",
       "      <td>14.1</td>\n",
       "      <td>16.2</td>\n",
       "      <td>4.1472</td>\n",
       "      <td>2.2680</td>\n",
       "    </tr>\n",
       "    <tr>\n",
       "      <th>...</th>\n",
       "      <td>...</td>\n",
       "      <td>...</td>\n",
       "      <td>...</td>\n",
       "      <td>...</td>\n",
       "      <td>...</td>\n",
       "      <td>...</td>\n",
       "      <td>...</td>\n",
       "    </tr>\n",
       "    <tr>\n",
       "      <th>76</th>\n",
       "      <td>Perch</td>\n",
       "      <td>70.0</td>\n",
       "      <td>15.7</td>\n",
       "      <td>17.4</td>\n",
       "      <td>18.5</td>\n",
       "      <td>4.5880</td>\n",
       "      <td>2.9415</td>\n",
       "    </tr>\n",
       "    <tr>\n",
       "      <th>13</th>\n",
       "      <td>Bream</td>\n",
       "      <td>340.0</td>\n",
       "      <td>29.5</td>\n",
       "      <td>32.0</td>\n",
       "      <td>37.3</td>\n",
       "      <td>13.9129</td>\n",
       "      <td>5.0728</td>\n",
       "    </tr>\n",
       "    <tr>\n",
       "      <th>119</th>\n",
       "      <td>Perch</td>\n",
       "      <td>850.0</td>\n",
       "      <td>36.9</td>\n",
       "      <td>40.0</td>\n",
       "      <td>42.3</td>\n",
       "      <td>11.9286</td>\n",
       "      <td>7.1064</td>\n",
       "    </tr>\n",
       "    <tr>\n",
       "      <th>52</th>\n",
       "      <td>Roach</td>\n",
       "      <td>290.0</td>\n",
       "      <td>24.0</td>\n",
       "      <td>26.0</td>\n",
       "      <td>29.2</td>\n",
       "      <td>8.8768</td>\n",
       "      <td>4.4968</td>\n",
       "    </tr>\n",
       "    <tr>\n",
       "      <th>142</th>\n",
       "      <td>Pike</td>\n",
       "      <td>1600.0</td>\n",
       "      <td>56.0</td>\n",
       "      <td>60.0</td>\n",
       "      <td>64.0</td>\n",
       "      <td>9.6000</td>\n",
       "      <td>6.1440</td>\n",
       "    </tr>\n",
       "  </tbody>\n",
       "</table>\n",
       "<p>95 rows × 7 columns</p>\n",
       "</div>"
      ],
      "text/plain": [
       "       Species  Weight  Length1  Length2  Length3   Height   Width\n",
       "51       Roach   180.0     23.6     25.2     27.9   7.0866  3.9060\n",
       "27       Bream   714.0     32.7     36.0     41.5  16.5170  5.8515\n",
       "153      Smelt     9.8     11.4     12.0     13.2   2.2044  1.1484\n",
       "55   Whitefish   270.0     23.6     26.0     28.7   8.3804  4.2476\n",
       "35       Roach    40.0     12.9     14.1     16.2   4.1472  2.2680\n",
       "..         ...     ...      ...      ...      ...      ...     ...\n",
       "76       Perch    70.0     15.7     17.4     18.5   4.5880  2.9415\n",
       "13       Bream   340.0     29.5     32.0     37.3  13.9129  5.0728\n",
       "119      Perch   850.0     36.9     40.0     42.3  11.9286  7.1064\n",
       "52       Roach   290.0     24.0     26.0     29.2   8.8768  4.4968\n",
       "142       Pike  1600.0     56.0     60.0     64.0   9.6000  6.1440\n",
       "\n",
       "[95 rows x 7 columns]"
      ]
     },
     "execution_count": 7,
     "metadata": {},
     "output_type": "execute_result"
    }
   ],
   "source": [
    "train"
   ]
  },
  {
   "cell_type": "code",
   "execution_count": 8,
   "metadata": {},
   "outputs": [
    {
     "data": {
      "text/plain": [
       "ColumnTransformer(remainder='passthrough',\n",
       "                  transformers=[('numerical', MinMaxScaler(),\n",
       "                                 ['Weight', 'Length1', 'Length2', 'Length3',\n",
       "                                  'Height', 'Width'])])"
      ]
     },
     "execution_count": 8,
     "metadata": {},
     "output_type": "execute_result"
    }
   ],
   "source": [
    "# Значения в числовых столбцах преобразуем к отрезку [0,1].\n",
    "# Для настройки скалировщика используем только обучающую выборку.\n",
    "num_columns = ['Weight', 'Length1', 'Length2', 'Length3', 'Height', 'Width']\n",
    "\n",
    "ct = ColumnTransformer(transformers=[('numerical', MinMaxScaler(), num_columns)], remainder='passthrough')\n",
    "ct.fit(train)"
   ]
  },
  {
   "cell_type": "code",
   "execution_count": 9,
   "metadata": {},
   "outputs": [],
   "source": [
    "# Преобразуем значения, тип данных приводим к DataFrame\n",
    "sc_train = pd.DataFrame(ct.transform(train))\n",
    "sc_test = pd.DataFrame(ct.transform(test))\n",
    "sc_val = pd.DataFrame(ct.transform(val))"
   ]
  },
  {
   "cell_type": "code",
   "execution_count": 10,
   "metadata": {},
   "outputs": [
    {
     "data": {
      "text/html": [
       "<div>\n",
       "<style scoped>\n",
       "    .dataframe tbody tr th:only-of-type {\n",
       "        vertical-align: middle;\n",
       "    }\n",
       "\n",
       "    .dataframe tbody tr th {\n",
       "        vertical-align: top;\n",
       "    }\n",
       "\n",
       "    .dataframe thead th {\n",
       "        text-align: right;\n",
       "    }\n",
       "</style>\n",
       "<table border=\"1\" class=\"dataframe\">\n",
       "  <thead>\n",
       "    <tr style=\"text-align: right;\">\n",
       "      <th></th>\n",
       "      <th>0</th>\n",
       "      <th>1</th>\n",
       "      <th>2</th>\n",
       "      <th>3</th>\n",
       "      <th>4</th>\n",
       "      <th>5</th>\n",
       "      <th>6</th>\n",
       "    </tr>\n",
       "  </thead>\n",
       "  <tbody>\n",
       "    <tr>\n",
       "      <th>0</th>\n",
       "      <td>0.105459</td>\n",
       "      <td>0.287726</td>\n",
       "      <td>0.287313</td>\n",
       "      <td>0.298951</td>\n",
       "      <td>0.328553</td>\n",
       "      <td>0.436517</td>\n",
       "      <td>Roach</td>\n",
       "    </tr>\n",
       "    <tr>\n",
       "      <th>1</th>\n",
       "      <td>0.430414</td>\n",
       "      <td>0.470825</td>\n",
       "      <td>0.488806</td>\n",
       "      <td>0.536713</td>\n",
       "      <td>0.906803</td>\n",
       "      <td>0.733621</td>\n",
       "      <td>Bream</td>\n",
       "    </tr>\n",
       "    <tr>\n",
       "      <th>2</th>\n",
       "      <td>0.001886</td>\n",
       "      <td>0.042254</td>\n",
       "      <td>0.041045</td>\n",
       "      <td>0.041958</td>\n",
       "      <td>0.029187</td>\n",
       "      <td>0.015394</td>\n",
       "      <td>Smelt</td>\n",
       "    </tr>\n",
       "    <tr>\n",
       "      <th>3</th>\n",
       "      <td>0.160226</td>\n",
       "      <td>0.287726</td>\n",
       "      <td>0.302239</td>\n",
       "      <td>0.312937</td>\n",
       "      <td>0.407885</td>\n",
       "      <td>0.488684</td>\n",
       "      <td>Whitefish</td>\n",
       "    </tr>\n",
       "    <tr>\n",
       "      <th>4</th>\n",
       "      <td>0.020264</td>\n",
       "      <td>0.072435</td>\n",
       "      <td>0.080224</td>\n",
       "      <td>0.094406</td>\n",
       "      <td>0.148315</td>\n",
       "      <td>0.186372</td>\n",
       "      <td>Roach</td>\n",
       "    </tr>\n",
       "    <tr>\n",
       "      <th>...</th>\n",
       "      <td>...</td>\n",
       "      <td>...</td>\n",
       "      <td>...</td>\n",
       "      <td>...</td>\n",
       "      <td>...</td>\n",
       "      <td>...</td>\n",
       "      <td>...</td>\n",
       "    </tr>\n",
       "    <tr>\n",
       "      <th>90</th>\n",
       "      <td>0.03852</td>\n",
       "      <td>0.128773</td>\n",
       "      <td>0.141791</td>\n",
       "      <td>0.134615</td>\n",
       "      <td>0.175344</td>\n",
       "      <td>0.289225</td>\n",
       "      <td>Perch</td>\n",
       "    </tr>\n",
       "    <tr>\n",
       "      <th>91</th>\n",
       "      <td>0.202824</td>\n",
       "      <td>0.406439</td>\n",
       "      <td>0.414179</td>\n",
       "      <td>0.463287</td>\n",
       "      <td>0.747126</td>\n",
       "      <td>0.614703</td>\n",
       "      <td>Bream</td>\n",
       "    </tr>\n",
       "    <tr>\n",
       "      <th>92</th>\n",
       "      <td>0.513175</td>\n",
       "      <td>0.555332</td>\n",
       "      <td>0.563433</td>\n",
       "      <td>0.550699</td>\n",
       "      <td>0.625453</td>\n",
       "      <td>0.925262</td>\n",
       "      <td>Perch</td>\n",
       "    </tr>\n",
       "    <tr>\n",
       "      <th>93</th>\n",
       "      <td>0.172397</td>\n",
       "      <td>0.295775</td>\n",
       "      <td>0.302239</td>\n",
       "      <td>0.321678</td>\n",
       "      <td>0.438324</td>\n",
       "      <td>0.52674</td>\n",
       "      <td>Roach</td>\n",
       "    </tr>\n",
       "    <tr>\n",
       "      <th>94</th>\n",
       "      <td>0.969573</td>\n",
       "      <td>0.939638</td>\n",
       "      <td>0.936567</td>\n",
       "      <td>0.93007</td>\n",
       "      <td>0.482669</td>\n",
       "      <td>0.77829</td>\n",
       "      <td>Pike</td>\n",
       "    </tr>\n",
       "  </tbody>\n",
       "</table>\n",
       "<p>95 rows × 7 columns</p>\n",
       "</div>"
      ],
      "text/plain": [
       "           0         1         2         3         4         5          6\n",
       "0   0.105459  0.287726  0.287313  0.298951  0.328553  0.436517      Roach\n",
       "1   0.430414  0.470825  0.488806  0.536713  0.906803  0.733621      Bream\n",
       "2   0.001886  0.042254  0.041045  0.041958  0.029187  0.015394      Smelt\n",
       "3   0.160226  0.287726  0.302239  0.312937  0.407885  0.488684  Whitefish\n",
       "4   0.020264  0.072435  0.080224  0.094406  0.148315  0.186372      Roach\n",
       "..       ...       ...       ...       ...       ...       ...        ...\n",
       "90   0.03852  0.128773  0.141791  0.134615  0.175344  0.289225      Perch\n",
       "91  0.202824  0.406439  0.414179  0.463287  0.747126  0.614703      Bream\n",
       "92  0.513175  0.555332  0.563433  0.550699  0.625453  0.925262      Perch\n",
       "93  0.172397  0.295775  0.302239  0.321678  0.438324   0.52674      Roach\n",
       "94  0.969573  0.939638  0.936567   0.93007  0.482669   0.77829       Pike\n",
       "\n",
       "[95 rows x 7 columns]"
      ]
     },
     "execution_count": 10,
     "metadata": {},
     "output_type": "execute_result"
    }
   ],
   "source": [
    "sc_train "
   ]
  },
  {
   "cell_type": "code",
   "execution_count": 11,
   "metadata": {},
   "outputs": [],
   "source": [
    "# Задание №1 - анализ различных типов ансамблей решений в задаче регрессии\n",
    "# https://scikit-learn.org/stable/modules/generated/sklearn.ensemble.BaggingRegressor.html\n",
    "# https://scikit-learn.org/stable/modules/generated/sklearn.ensemble.RandomForestRegressor.html\n",
    "# https://scikit-learn.org/stable/modules/generated/sklearn.ensemble.GradientBoostingRegressor.html\n",
    "# https://xgboost.readthedocs.io/en/latest/python/python_api.html#module-xgboost.sklearn"
   ]
  },
  {
   "cell_type": "code",
   "execution_count": 12,
   "metadata": {},
   "outputs": [],
   "source": [
    "# Устанавливаем названия столбцов\n",
    "column_names = num_columns + ['Species']\n",
    "sc_train.columns = column_names\n",
    "sc_test.columns = column_names\n",
    "sc_val.columns = column_names"
   ]
  },
  {
   "cell_type": "code",
   "execution_count": 13,
   "metadata": {},
   "outputs": [],
   "source": [
    "# Явно укажем типы данных, это важно для xgboost\n",
    "types = {\n",
    "    'Weight' : 'float64',\n",
    "    'Length1' : 'float64',\n",
    "    'Length2' : 'float64',\n",
    "    'Length3' : 'float64',\n",
    "    'Height' : 'float64',\n",
    "    'Width' : 'float64',\n",
    "    'Species' : 'category'\n",
    "}\n",
    "sc_train = sc_train.astype(types)\n",
    "sc_test = sc_test.astype(types)\n",
    "sc_val = sc_val.astype(types)"
   ]
  },
  {
   "cell_type": "code",
   "execution_count": 14,
   "metadata": {
    "scrolled": true
   },
   "outputs": [
    {
     "name": "stdout",
     "output_type": "stream",
     "text": [
      "['Weight', 'Length2', 'Length3']\n",
      "Width\n"
     ]
    }
   ],
   "source": [
    "# Выбираем 4 числовых переменных, три их них будут предикторами, одна - зависимой переменной\n",
    "n = 4\n",
    "labels = random.sample(num_columns, n)\n",
    "\n",
    "y_labels = labels[0]\n",
    "x_labels = labels[1:]\n",
    "\n",
    "print(x_labels)\n",
    "print(y_labels)"
   ]
  },
  {
   "cell_type": "code",
   "execution_count": 15,
   "metadata": {},
   "outputs": [],
   "source": [
    "# Отберем необходимые параметры\n",
    "x_train = sc_train[x_labels]\n",
    "x_test = sc_test[x_labels]\n",
    "x_val = sc_val[x_labels]\n",
    "\n",
    "y_train = sc_train[y_labels]\n",
    "y_test = sc_test[y_labels]\n",
    "y_val = sc_val[y_labels]"
   ]
  },
  {
   "cell_type": "code",
   "execution_count": 16,
   "metadata": {},
   "outputs": [],
   "source": [
    "# Создайте 4 различных модели с использованием следующих классов:\n",
    "# BaggingRegressor, RandomForestRegressor, GradientBoostingRegressor, XGBRegressor.\n",
    "# Решите получившуюся задачу регрессии с помощью созданных моделей и сравните их эффективность.\n",
    "# Укажите, какая модель решает задачу лучше других.\n",
    "\n",
    "# mean_squared_error -> min "
   ]
  },
  {
   "cell_type": "code",
   "execution_count": 17,
   "metadata": {},
   "outputs": [],
   "source": [
    "# Общий список моделей\n",
    "r_models=[BaggingRegressor(), RandomForestRegressor(),GradientBoostingRegressor(), XGBRegressor()]"
   ]
  },
  {
   "cell_type": "code",
   "execution_count": 18,
   "metadata": {},
   "outputs": [],
   "source": [
    "r_models=[]\n",
    "\n",
    "#Регрессор Бэгинга\n",
    "r_models.append(BaggingRegressor())\n",
    "#случайный лес\n",
    "r_models.append(RandomForestRegressor())\n",
    "#градиентный бустинг\n",
    "r_models.append(GradientBoostingRegressor())\n",
    "\n",
    "#XGBregre\n",
    "r_models.append(XGBRegressor())"
   ]
  },
  {
   "cell_type": "code",
   "execution_count": 19,
   "metadata": {},
   "outputs": [
    {
     "data": {
      "text/plain": [
       "[BaggingRegressor(),\n",
       " RandomForestRegressor(),\n",
       " GradientBoostingRegressor(),\n",
       " XGBRegressor(base_score=None, booster=None, colsample_bylevel=None,\n",
       "              colsample_bynode=None, colsample_bytree=None,\n",
       "              enable_categorical=False, gamma=None, gpu_id=None,\n",
       "              importance_type=None, interaction_constraints=None,\n",
       "              learning_rate=None, max_delta_step=None, max_depth=None,\n",
       "              min_child_weight=None, missing=nan, monotone_constraints=None,\n",
       "              n_estimators=100, n_jobs=None, num_parallel_tree=None,\n",
       "              predictor=None, random_state=None, reg_alpha=None, reg_lambda=None,\n",
       "              scale_pos_weight=None, subsample=None, tree_method=None,\n",
       "              validate_parameters=None, verbosity=None)]"
      ]
     },
     "execution_count": 19,
     "metadata": {},
     "output_type": "execute_result"
    }
   ],
   "source": [
    "r_models"
   ]
  },
  {
   "cell_type": "code",
   "execution_count": 20,
   "metadata": {},
   "outputs": [],
   "source": [
    "x_train = sc_train[x_labels]\n",
    "x_test = sc_test[x_labels]\n",
    "x_val = sc_val[x_labels]\n",
    "\n",
    "y_train = np.ravel(sc_train[y_labels])\n",
    "y_test = np.ravel(sc_test[y_labels])\n",
    "y_val = np.ravel(sc_val[y_labels])"
   ]
  },
  {
   "cell_type": "code",
   "execution_count": 21,
   "metadata": {},
   "outputs": [
    {
     "data": {
      "text/plain": [
       "array([0.43651691, 0.73362145, 0.01539354, 0.48868391, 0.18637183,\n",
       "       0.75675758, 0.94337375, 0.28565102, 0.62966922, 0.48737058,\n",
       "       0.58770349, 0.84389603, 0.44735958, 0.42414709, 0.49754131,\n",
       "       0.34511774, 0.97261843, 0.61949849, 0.01539354, 0.34727101,\n",
       "       0.97962799, 0.15570691, 0.77624385, 0.45010843, 0.37833298,\n",
       "       0.88891604, 0.57973183, 0.40009468, 0.98231575, 0.55624446,\n",
       "       0.37833298, 0.64636083, 0.19530558, 0.24822089, 0.38291439,\n",
       "       0.57527259, 0.78244403, 0.1934272 , 0.66015088, 0.4025381 ,\n",
       "       0.42032925, 0.031795  , 0.81547601, 0.8882441 , 0.3797074 ,\n",
       "       0.03628478, 0.32482209, 0.36083198, 0.39455117, 0.56901133,\n",
       "       0.05076204, 0.62337742, 0.42570477, 0.21141688, 0.62455331,\n",
       "       0.69055618, 0.80307565, 0.81287988, 0.35551755, 0.71470022,\n",
       "       0.5204331 , 0.48882136, 0.50012217, 0.26333954, 0.5924987 ,\n",
       "       0.47500076, 0.01806603, 0.28355884, 0.42342934, 0.        ,\n",
       "       0.85250909, 0.47286277, 0.95134541, 0.45392627, 0.50203109,\n",
       "       0.30377814, 0.34311719, 0.66100608, 0.59738554, 0.63374668,\n",
       "       0.24189854, 0.83647415, 0.39345164, 0.40887572, 0.53891146,\n",
       "       0.77004368, 0.64717021, 1.        , 0.47619193, 0.41336551,\n",
       "       0.28922452, 0.61470328, 0.9252619 , 0.52674017, 0.77829022])"
      ]
     },
     "execution_count": 21,
     "metadata": {},
     "output_type": "execute_result"
    }
   ],
   "source": [
    "y_train"
   ]
  },
  {
   "cell_type": "code",
   "execution_count": 22,
   "metadata": {},
   "outputs": [
    {
     "name": "stdout",
     "output_type": "stream",
     "text": [
      "BaggingRegressor()\n",
      "RandomForestRegressor()\n",
      "GradientBoostingRegressor()\n",
      "XGBRegressor(base_score=None, booster=None, colsample_bylevel=None,\n",
      "             colsample_bynode=None, colsample_bytree=None,\n",
      "             enable_categorical=False, gamma=None, gpu_id=None,\n",
      "             importance_type=None, interaction_constraints=None,\n",
      "             learning_rate=None, max_delta_step=None, max_depth=None,\n",
      "             min_child_weight=None, missing=nan, monotone_constraints=None,\n",
      "             n_estimators=100, n_jobs=None, num_parallel_tree=None,\n",
      "             predictor=None, random_state=None, reg_alpha=None, reg_lambda=None,\n",
      "             scale_pos_weight=None, subsample=None, tree_method=None,\n",
      "             validate_parameters=None, verbosity=None)\n"
     ]
    }
   ],
   "source": [
    "for model in r_models:\n",
    "    print(model)\n",
    "    model.fit(x_train, y_train)"
   ]
  },
  {
   "cell_type": "code",
   "execution_count": 23,
   "metadata": {},
   "outputs": [
    {
     "name": "stdout",
     "output_type": "stream",
     "text": [
      "BaggingRegressor() \t 0.0028379807612619965\n",
      "RandomForestRegressor() \t 0.0023090859087358346\n",
      "GradientBoostingRegressor() \t 0.0025369413476276125\n",
      "XGBRegressor(base_score=0.5, booster='gbtree', colsample_bylevel=1,\n",
      "             colsample_bynode=1, colsample_bytree=1, enable_categorical=False,\n",
      "             gamma=0, gpu_id=-1, importance_type=None,\n",
      "             interaction_constraints='', learning_rate=0.300000012,\n",
      "             max_delta_step=0, max_depth=6, min_child_weight=1, missing=nan,\n",
      "             monotone_constraints='()', n_estimators=100, n_jobs=4,\n",
      "             num_parallel_tree=1, predictor='auto', random_state=0, reg_alpha=0,\n",
      "             reg_lambda=1, scale_pos_weight=1, subsample=1, tree_method='exact',\n",
      "             validate_parameters=1, verbosity=None) \t 0.003068263856697519\n"
     ]
    }
   ],
   "source": [
    "# Оценииваем качество работы моделей на валидационной выборке.\n",
    "mses = []\n",
    "for model in r_models:\n",
    "    val_pred = model.predict(x_val)\n",
    "    mse = mean_squared_error(y_val, val_pred)\n",
    "    mses.append(mse)\n",
    "    print(model, '\\t', mse)"
   ]
  },
  {
   "cell_type": "code",
   "execution_count": 24,
   "metadata": {},
   "outputs": [
    {
     "data": {
      "text/plain": [
       "RandomForestRegressor()"
      ]
     },
     "execution_count": 24,
     "metadata": {},
     "output_type": "execute_result"
    }
   ],
   "source": [
    "# Выбираем лучшую модель\n",
    "i_min = mses.index(min(mses))\n",
    "best_r_model = r_models[i_min]\n",
    "best_r_model"
   ]
  },
  {
   "cell_type": "code",
   "execution_count": 25,
   "metadata": {},
   "outputs": [
    {
     "name": "stdout",
     "output_type": "stream",
     "text": [
      "0.005351377644829736\n"
     ]
    }
   ],
   "source": [
    "# Вычислим ошибку лучшей модели на тестовой выборке.\n",
    "test_pred = best_r_model.predict(x_test)\n",
    "mse = mean_squared_error(y_test, test_pred)\n",
    "print(mse)"
   ]
  },
  {
   "cell_type": "code",
   "execution_count": 26,
   "metadata": {},
   "outputs": [],
   "source": [
    "# Задание №2 - анализ различных типов ансамблей в задаче классификации\n",
    "# https://scikit-learn.org/stable/modules/generated/sklearn.ensemble.BaggingClassifier.html\n",
    "# https://scikit-learn.org/stable/modules/generated/sklearn.ensemble.RandomForestClassifier.html\n",
    "# https://scikit-learn.org/stable/modules/generated/sklearn.ensemble.GradientBoostingClassifier.html\n",
    "# https://xgboost.readthedocs.io/en/latest/python/python_api.html#module-xgboost.sklearn"
   ]
  },
  {
   "cell_type": "code",
   "execution_count": 27,
   "metadata": {},
   "outputs": [
    {
     "name": "stdout",
     "output_type": "stream",
     "text": [
      "['Length1', 'Length2']\n",
      "Species\n"
     ]
    }
   ],
   "source": [
    "n = 2\n",
    "x_labels = random.sample(num_columns, n)\n",
    "y_label = 'Species'\n",
    "\n",
    "print(x_labels)\n",
    "print(y_label)"
   ]
  },
  {
   "cell_type": "code",
   "execution_count": 28,
   "metadata": {},
   "outputs": [],
   "source": [
    "# Отберем необходимые параметры\n",
    "x_train = sc_train[x_labels]\n",
    "x_test = sc_test[x_labels]\n",
    "x_val = sc_val[x_labels]\n",
    "\n",
    "y_train = sc_train[y_label]\n",
    "y_test = sc_test[y_label]\n",
    "y_val = sc_val[y_label]"
   ]
  },
  {
   "cell_type": "code",
   "execution_count": 29,
   "metadata": {},
   "outputs": [
    {
     "data": {
      "text/plain": [
       "0         Roach\n",
       "1         Bream\n",
       "2         Smelt\n",
       "3     Whitefish\n",
       "4         Roach\n",
       "        ...    \n",
       "90        Perch\n",
       "91        Bream\n",
       "92        Perch\n",
       "93        Roach\n",
       "94         Pike\n",
       "Name: Species, Length: 95, dtype: category\n",
       "Categories (7, object): ['Bream', 'Parkki', 'Perch', 'Pike', 'Roach', 'Smelt', 'Whitefish']"
      ]
     },
     "execution_count": 29,
     "metadata": {},
     "output_type": "execute_result"
    }
   ],
   "source": [
    "y_train"
   ]
  },
  {
   "cell_type": "code",
   "execution_count": 30,
   "metadata": {},
   "outputs": [],
   "source": [
    "# Создайте 4 различных модели с использованием следующих классов:\n",
    "# BaggingClassifier, RandomForestClassifier, GradientBoostingClassifier, XGBClassifier\n",
    "# Решите получившуюся задачу классификации с помощью созданных моделей и сравните их эффективность.\n",
    "# Укажите, какая модель решает задачу лучше других.\n",
    "\n",
    "# f1_score -> max"
   ]
  },
  {
   "cell_type": "code",
   "execution_count": 31,
   "metadata": {},
   "outputs": [
    {
     "data": {
      "text/plain": [
       "0         Perch\n",
       "1         Bream\n",
       "2         Bream\n",
       "3        Parkki\n",
       "4         Bream\n",
       "5         Perch\n",
       "6         Bream\n",
       "7         Bream\n",
       "8          Pike\n",
       "9         Perch\n",
       "10        Roach\n",
       "11        Perch\n",
       "12         Pike\n",
       "13        Perch\n",
       "14         Pike\n",
       "15        Bream\n",
       "16        Smelt\n",
       "17        Roach\n",
       "18        Perch\n",
       "19        Roach\n",
       "20        Perch\n",
       "21        Smelt\n",
       "22        Bream\n",
       "23        Roach\n",
       "24        Perch\n",
       "25    Whitefish\n",
       "26        Roach\n",
       "27        Roach\n",
       "28        Perch\n",
       "29        Perch\n",
       "30        Smelt\n",
       "31        Perch\n",
       "Name: Species, dtype: category\n",
       "Categories (7, object): ['Bream', 'Parkki', 'Perch', 'Pike', 'Roach', 'Smelt', 'Whitefish']"
      ]
     },
     "execution_count": 31,
     "metadata": {},
     "output_type": "execute_result"
    }
   ],
   "source": [
    "#Преобразовываем метки классов в целые числа\n",
    "le = preprocessing.LabelEncoder()\n",
    "y_test\n"
   ]
  },
  {
   "cell_type": "code",
   "execution_count": 32,
   "metadata": {},
   "outputs": [
    {
     "data": {
      "text/plain": [
       "LabelEncoder()"
      ]
     },
     "execution_count": 32,
     "metadata": {},
     "output_type": "execute_result"
    }
   ],
   "source": [
    "le.fit(y_train)\n",
    "le.fit(y_val)\n",
    "le.fit(y_test)"
   ]
  },
  {
   "cell_type": "code",
   "execution_count": 33,
   "metadata": {},
   "outputs": [],
   "source": [
    "y_train=le.transform(y_train)\n",
    "y_val=le.transform(y_val)\n",
    "y_test=le.transform(y_test)"
   ]
  },
  {
   "cell_type": "code",
   "execution_count": 34,
   "metadata": {},
   "outputs": [
    {
     "data": {
      "text/plain": [
       "array([4, 0, 5, 6, 4, 2, 2, 1, 0, 2, 3, 6, 3, 2, 0, 2, 2, 0, 5, 2, 2, 5,\n",
       "       0, 2, 2, 2, 0, 2, 3, 0, 2, 0, 1, 1, 2, 0, 3, 1, 0, 2, 4, 5, 2, 2,\n",
       "       2, 5, 4, 1, 4, 4, 5, 3, 4, 2, 2, 0, 0, 0, 3, 0, 0, 6, 3, 2, 0, 3,\n",
       "       5, 4, 4, 5, 2, 1, 2, 0, 2, 2, 1, 3, 0, 0, 2, 6, 2, 2, 3, 0, 0, 2,\n",
       "       2, 4, 2, 0, 2, 4, 3])"
      ]
     },
     "execution_count": 34,
     "metadata": {},
     "output_type": "execute_result"
    }
   ],
   "source": [
    "y_train"
   ]
  },
  {
   "cell_type": "code",
   "execution_count": 35,
   "metadata": {},
   "outputs": [],
   "source": [
    "a_models=[BaggingClassifier(),     \n",
    "          RandomForestClassifier(),    \n",
    "          GradientBoostingClassifier(),    \n",
    "          XGBClassifier()]"
   ]
  },
  {
   "cell_type": "code",
   "execution_count": 36,
   "metadata": {},
   "outputs": [],
   "source": [
    "a_models=[]\n",
    "\n",
    "#Регрессор Бэгинга\n",
    "a_models.append(BaggingClassifier())\n",
    "\n",
    "#случайный лес\n",
    "a_models.append(RandomForestClassifier())\n",
    "\n",
    "#градиентный бустинг\n",
    "a_models.append(GradientBoostingClassifier())\n",
    "\n",
    "#XGBreg\n",
    "a_models.append(XGBClassifier(use_label_encoder=False,\n",
    "                              eval_metric='mlogloss'))\n"
   ]
  },
  {
   "cell_type": "code",
   "execution_count": 37,
   "metadata": {},
   "outputs": [
    {
     "name": "stdout",
     "output_type": "stream",
     "text": [
      "BaggingClassifier()\n",
      "RandomForestClassifier()\n",
      "GradientBoostingClassifier()\n",
      "XGBClassifier(base_score=None, booster=None, colsample_bylevel=None,\n",
      "              colsample_bynode=None, colsample_bytree=None,\n",
      "              enable_categorical=False, eval_metric='mlogloss', gamma=None,\n",
      "              gpu_id=None, importance_type=None, interaction_constraints=None,\n",
      "              learning_rate=None, max_delta_step=None, max_depth=None,\n",
      "              min_child_weight=None, missing=nan, monotone_constraints=None,\n",
      "              n_estimators=100, n_jobs=None, num_parallel_tree=None,\n",
      "              predictor=None, random_state=None, reg_alpha=None,\n",
      "              reg_lambda=None, scale_pos_weight=None, subsample=None,\n",
      "              tree_method=None, use_label_encoder=False,\n",
      "              validate_parameters=None, verbosity=None)\n"
     ]
    }
   ],
   "source": [
    "# Обучаем модели\n",
    "for model in a_models:\n",
    "    print(model)\n",
    "    model.fit(x_train, y_train)"
   ]
  },
  {
   "cell_type": "code",
   "execution_count": 38,
   "metadata": {},
   "outputs": [
    {
     "name": "stdout",
     "output_type": "stream",
     "text": [
      "BaggingClassifier() \t 0.552639751552795\n",
      "RandomForestClassifier() \t 0.552639751552795\n",
      "GradientBoostingClassifier() \t 0.552639751552795\n",
      "XGBClassifier(base_score=0.5, booster='gbtree', colsample_bylevel=1,\n",
      "              colsample_bynode=1, colsample_bytree=1, enable_categorical=False,\n",
      "              eval_metric='mlogloss', gamma=0, gpu_id=-1, importance_type=None,\n",
      "              interaction_constraints='', learning_rate=0.300000012,\n",
      "              max_delta_step=0, max_depth=6, min_child_weight=1, missing=nan,\n",
      "              monotone_constraints='()', n_estimators=100, n_jobs=4,\n",
      "              num_parallel_tree=1, objective='multi:softprob', predictor='auto',\n",
      "              random_state=0, reg_alpha=0, reg_lambda=1, scale_pos_weight=None,\n",
      "              subsample=1, tree_method='exact', use_label_encoder=False,\n",
      "              validate_parameters=1, ...) \t 0.49032738095238093\n"
     ]
    }
   ],
   "source": [
    "# Оценииваем качество работы моделей на валидационной выборке.\n",
    "f1s = []\n",
    "for model in a_models:\n",
    "    val_pred = model.predict(x_val)\n",
    "    f1 = f1_score(y_val, val_pred, average='weighted')\n",
    "    f1s.append(f1)\n",
    "    print(model, '\\t', f1)"
   ]
  },
  {
   "cell_type": "code",
   "execution_count": 39,
   "metadata": {},
   "outputs": [
    {
     "data": {
      "text/plain": [
       "BaggingClassifier()"
      ]
     },
     "execution_count": 39,
     "metadata": {},
     "output_type": "execute_result"
    }
   ],
   "source": [
    "# Выбираем лучшую модель\n",
    "i_max = f1s.index(max(f1s))\n",
    "best_a_model = a_models[i_max]\n",
    "best_a_model"
   ]
  },
  {
   "cell_type": "code",
   "execution_count": 40,
   "metadata": {},
   "outputs": [
    {
     "name": "stdout",
     "output_type": "stream",
     "text": [
      "0.45575657894736843\n"
     ]
    }
   ],
   "source": [
    "# Вычислим ошибку лучшей модели на тестовой выборке.\n",
    "test_pred = best_a_model.predict(x_test)\n",
    "f1 = f1_score(y_test, test_pred, average='weighted')\n",
    "print(f1)"
   ]
  }
 ],
 "metadata": {
  "kernelspec": {
   "display_name": "Python 3 (ipykernel)",
   "language": "python",
   "name": "python3"
  },
  "language_info": {
   "codemirror_mode": {
    "name": "ipython",
    "version": 3
   },
   "file_extension": ".py",
   "mimetype": "text/x-python",
   "name": "python",
   "nbconvert_exporter": "python",
   "pygments_lexer": "ipython3",
   "version": "3.7.12"
  }
 },
 "nbformat": 4,
 "nbformat_minor": 4
}
